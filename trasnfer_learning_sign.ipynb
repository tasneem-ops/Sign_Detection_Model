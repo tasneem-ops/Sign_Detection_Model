{
 "cells": [
  {
   "cell_type": "code",
   "execution_count": 1,
   "id": "f4f45bb3",
   "metadata": {},
   "outputs": [],
   "source": [
    "import tensorflow as tf\n",
    "from tensorflow.keras.models import load_model\n",
    "from tensorflow.keras.models import Sequential\n",
    "from tensorflow.keras.layers import Dense, Activation, Dropout\n",
    "from tensorflow.keras.layers import BatchNormalization\n"
   ]
  },
  {
   "cell_type": "code",
   "execution_count": 2,
   "id": "9b6ad231",
   "metadata": {},
   "outputs": [
    {
     "name": "stdout",
     "output_type": "stream",
     "text": [
      "Model: \"sequential\"\n",
      "_________________________________________________________________\n",
      " Layer (type)                Output Shape              Param #   \n",
      "=================================================================\n",
      " conv2d (Conv2D)             (None, 26, 26, 32)        2432      \n",
      "                                                                 \n",
      " conv2d_1 (Conv2D)           (None, 22, 22, 32)        25632     \n",
      "                                                                 \n",
      " max_pooling2d (MaxPooling2D  (None, 11, 11, 32)       0         \n",
      " )                                                               \n",
      "                                                                 \n",
      " dropout (Dropout)           (None, 11, 11, 32)        0         \n",
      "                                                                 \n",
      " conv2d_2 (Conv2D)           (None, 9, 9, 64)          18496     \n",
      "                                                                 \n",
      " conv2d_3 (Conv2D)           (None, 7, 7, 64)          36928     \n",
      "                                                                 \n",
      " max_pooling2d_1 (MaxPooling  (None, 3, 3, 64)         0         \n",
      " 2D)                                                             \n",
      "                                                                 \n",
      " dropout_1 (Dropout)         (None, 3, 3, 64)          0         \n",
      "                                                                 \n",
      " flatten (Flatten)           (None, 576)               0         \n",
      "                                                                 \n",
      " dense (Dense)               (None, 256)               147712    \n",
      "                                                                 \n",
      " dropout_2 (Dropout)         (None, 256)               0         \n",
      "                                                                 \n",
      " dense_1 (Dense)             (None, 43)                11051     \n",
      "                                                                 \n",
      "=================================================================\n",
      "Total params: 242,251\n",
      "Trainable params: 242,251\n",
      "Non-trainable params: 0\n",
      "_________________________________________________________________\n"
     ]
    }
   ],
   "source": [
    "model = load_model('G_final.h5')\n",
    "model.summary()"
   ]
  },
  {
   "cell_type": "code",
   "execution_count": 3,
   "id": "0d33d694",
   "metadata": {},
   "outputs": [],
   "source": [
    "for i in range(3):\n",
    "    model.pop()\n",
    "for layer in model.layers:\n",
    "    layer.trainable = False"
   ]
  },
  {
   "cell_type": "code",
   "execution_count": 4,
   "id": "6953e5c5",
   "metadata": {},
   "outputs": [
    {
     "name": "stdout",
     "output_type": "stream",
     "text": [
      "Model: \"sequential\"\n",
      "_________________________________________________________________\n",
      " Layer (type)                Output Shape              Param #   \n",
      "=================================================================\n",
      " conv2d (Conv2D)             (None, 26, 26, 32)        2432      \n",
      "                                                                 \n",
      " conv2d_1 (Conv2D)           (None, 22, 22, 32)        25632     \n",
      "                                                                 \n",
      " max_pooling2d (MaxPooling2D  (None, 11, 11, 32)       0         \n",
      " )                                                               \n",
      "                                                                 \n",
      " dropout (Dropout)           (None, 11, 11, 32)        0         \n",
      "                                                                 \n",
      " conv2d_2 (Conv2D)           (None, 9, 9, 64)          18496     \n",
      "                                                                 \n",
      " conv2d_3 (Conv2D)           (None, 7, 7, 64)          36928     \n",
      "                                                                 \n",
      " max_pooling2d_1 (MaxPooling  (None, 3, 3, 64)         0         \n",
      " 2D)                                                             \n",
      "                                                                 \n",
      " dropout_1 (Dropout)         (None, 3, 3, 64)          0         \n",
      "                                                                 \n",
      " flatten (Flatten)           (None, 576)               0         \n",
      "                                                                 \n",
      " dense (Dense)               (None, 4096)              2363392   \n",
      "                                                                 \n",
      " batch_normalization (BatchN  (None, 4096)             16384     \n",
      " ormalization)                                                   \n",
      "                                                                 \n",
      " activation (Activation)     (None, 4096)              0         \n",
      "                                                                 \n",
      " dropout_3 (Dropout)         (None, 4096)              0         \n",
      "                                                                 \n",
      " dense_1 (Dense)             (None, 4096)              16781312  \n",
      "                                                                 \n",
      " batch_normalization_1 (Batc  (None, 4096)             16384     \n",
      " hNormalization)                                                 \n",
      "                                                                 \n",
      " activation_1 (Activation)   (None, 4096)              0         \n",
      "                                                                 \n",
      " dropout_4 (Dropout)         (None, 4096)              0         \n",
      "                                                                 \n",
      " dense_2 (Dense)             (None, 1000)              4097000   \n",
      "                                                                 \n",
      " batch_normalization_2 (Batc  (None, 1000)             4000      \n",
      " hNormalization)                                                 \n",
      "                                                                 \n",
      " activation_2 (Activation)   (None, 1000)              0         \n",
      "                                                                 \n",
      " dropout_5 (Dropout)         (None, 1000)              0         \n",
      "                                                                 \n",
      " dense_3 (Dense)             (None, 10)                10010     \n",
      "                                                                 \n",
      " batch_normalization_3 (Batc  (None, 10)               40        \n",
      " hNormalization)                                                 \n",
      "                                                                 \n",
      " activation_3 (Activation)   (None, 10)                0         \n",
      "                                                                 \n",
      "=================================================================\n",
      "Total params: 23,372,010\n",
      "Trainable params: 23,270,118\n",
      "Non-trainable params: 101,892\n",
      "_________________________________________________________________\n"
     ]
    }
   ],
   "source": [
    "# 1st Fully Connected Layer\n",
    "model.add(Dense(4096, input_shape=(32,32,3,)))\n",
    "model.add(BatchNormalization())\n",
    "model.add(Activation('relu'))\n",
    "# Add Dropout to prevent overfitting\n",
    "model.add(Dropout(0.4, name='dropout_3'))\n",
    "\n",
    "#2nd Fully Connected Layer\n",
    "model.add(Dense(4096))\n",
    "model.add(BatchNormalization())\n",
    "model.add(Activation('relu'))\n",
    "#Add Dropout\n",
    "model.add(Dropout(0.4, name='dropout_4'))\n",
    "\n",
    "#3rd Fully Connected Layer\n",
    "model.add(Dense(1000))\n",
    "model.add(BatchNormalization())\n",
    "model.add(Activation('relu'))\n",
    "#Add Dropout\n",
    "model.add(Dropout(0.4, name='dropout_5'))\n",
    "\n",
    "#Output Layer\n",
    "model.add(Dense(10))\n",
    "model.add(BatchNormalization())\n",
    "model.add(Activation('softmax'))\n",
    "model.summary()"
   ]
  },
  {
   "cell_type": "code",
   "execution_count": 5,
   "id": "46413a4d",
   "metadata": {},
   "outputs": [],
   "source": [
    "import numpy as np\n",
    "import matplotlib.pyplot as plt\n",
    "import cv2\n",
    "import os\n",
    "from PIL import Image"
   ]
  },
  {
   "cell_type": "code",
   "execution_count": 6,
   "id": "c10668f5",
   "metadata": {},
   "outputs": [
    {
     "name": "stdout",
     "output_type": "stream",
     "text": [
      "10\n"
     ]
    }
   ],
   "source": [
    "train_data_dir = \"D:/Projects/Datasets/Reduced_Sign_Dataset/Train\"\n",
    "test_data_dir = \"D:/Projects/Datasets/Reduced_Sign_Dataset/Test\"\n",
    "categories = os.listdir(train_data_dir)\n",
    "print(len(categories))"
   ]
  },
  {
   "cell_type": "code",
   "execution_count": 7,
   "id": "93860d8f",
   "metadata": {},
   "outputs": [],
   "source": [
    "X_train = []\n",
    "y_train = []\n",
    "train_data = []\n",
    "# for loop to save all images data and labels after resize it \n",
    "for category in categories:\n",
    "    label = categories.index(category)\n",
    "    path = os.path.join(train_data_dir,category)\n",
    "    images = os.listdir(path)\n",
    "    for a in images:\n",
    "        try:\n",
    "            image = Image.open(path + '/'+ a)\n",
    "            image = image.resize((30,30))\n",
    "            image = np.array(image)\n",
    "            train_data.append([image, label])\n",
    "        except Exception as e:\n",
    "            print(e)"
   ]
  },
  {
   "cell_type": "code",
   "execution_count": 8,
   "id": "4c6363d5",
   "metadata": {},
   "outputs": [],
   "source": [
    "import random\n",
    "random.shuffle(train_data)\n",
    "for image,label in train_data:\n",
    "    X_train.append(image)\n",
    "    y_train.append(label)"
   ]
  },
  {
   "cell_type": "code",
   "execution_count": 9,
   "id": "d3c8f7ee",
   "metadata": {},
   "outputs": [],
   "source": [
    "X_train =  np.array(X_train)\n",
    "y_train = np.array(y_train)"
   ]
  },
  {
   "cell_type": "code",
   "execution_count": 10,
   "id": "9e2eccbd",
   "metadata": {},
   "outputs": [],
   "source": [
    "model.compile(loss='sparse_categorical_crossentropy', optimizer='adam', metrics=['accuracy'])"
   ]
  },
  {
   "cell_type": "code",
   "execution_count": 11,
   "id": "6478a947",
   "metadata": {},
   "outputs": [
    {
     "name": "stdout",
     "output_type": "stream",
     "text": [
      "Epoch 1/20\n",
      "48/48 [==============================] - 6s 112ms/step - loss: 1.0652 - accuracy: 0.8254 - val_loss: 0.4886 - val_accuracy: 0.9223\n",
      "Epoch 2/20\n",
      "48/48 [==============================] - 5s 107ms/step - loss: 0.7832 - accuracy: 0.9333 - val_loss: 0.3327 - val_accuracy: 0.9802\n",
      "Epoch 3/20\n",
      "48/48 [==============================] - 5s 107ms/step - loss: 0.6990 - accuracy: 0.9424 - val_loss: 0.3633 - val_accuracy: 0.9832\n",
      "Epoch 4/20\n",
      "48/48 [==============================] - 5s 107ms/step - loss: 0.6349 - accuracy: 0.9451 - val_loss: 0.3498 - val_accuracy: 0.9832\n",
      "Epoch 5/20\n",
      "48/48 [==============================] - 5s 108ms/step - loss: 0.5871 - accuracy: 0.9529 - val_loss: 0.3593 - val_accuracy: 0.9832\n",
      "Epoch 6/20\n",
      "48/48 [==============================] - 5s 107ms/step - loss: 0.5402 - accuracy: 0.9503 - val_loss: 0.3221 - val_accuracy: 0.9848\n",
      "Epoch 7/20\n",
      "48/48 [==============================] - 5s 107ms/step - loss: 0.5024 - accuracy: 0.9555 - val_loss: 0.3299 - val_accuracy: 0.9817\n",
      "Epoch 8/20\n",
      "48/48 [==============================] - 5s 107ms/step - loss: 0.4409 - accuracy: 0.9706 - val_loss: 0.3032 - val_accuracy: 0.9878\n",
      "Epoch 9/20\n",
      "48/48 [==============================] - 5s 108ms/step - loss: 0.4370 - accuracy: 0.9601 - val_loss: 0.2813 - val_accuracy: 0.9893\n",
      "Epoch 10/20\n",
      "48/48 [==============================] - 5s 108ms/step - loss: 0.3994 - accuracy: 0.9666 - val_loss: 0.2761 - val_accuracy: 0.9863\n",
      "Epoch 11/20\n",
      "48/48 [==============================] - 5s 108ms/step - loss: 0.3735 - accuracy: 0.9621 - val_loss: 0.2500 - val_accuracy: 0.9848\n",
      "Epoch 12/20\n",
      "48/48 [==============================] - 5s 107ms/step - loss: 0.3541 - accuracy: 0.9673 - val_loss: 0.2125 - val_accuracy: 0.9863\n",
      "Epoch 13/20\n",
      "48/48 [==============================] - 5s 108ms/step - loss: 0.3364 - accuracy: 0.9686 - val_loss: 0.2187 - val_accuracy: 0.9863\n",
      "Epoch 14/20\n",
      "48/48 [==============================] - 5s 110ms/step - loss: 0.3028 - accuracy: 0.9725 - val_loss: 0.1976 - val_accuracy: 0.9848\n",
      "Epoch 15/20\n",
      "48/48 [==============================] - 5s 113ms/step - loss: 0.2871 - accuracy: 0.9732 - val_loss: 0.1865 - val_accuracy: 0.9863\n",
      "Epoch 16/20\n",
      "48/48 [==============================] - 5s 114ms/step - loss: 0.2712 - accuracy: 0.9804 - val_loss: 0.1708 - val_accuracy: 0.9893\n",
      "Epoch 17/20\n",
      "48/48 [==============================] - 5s 107ms/step - loss: 0.2649 - accuracy: 0.9778 - val_loss: 0.1858 - val_accuracy: 0.9848\n",
      "Epoch 18/20\n",
      "48/48 [==============================] - 5s 107ms/step - loss: 0.2548 - accuracy: 0.9765 - val_loss: 0.1731 - val_accuracy: 0.9848\n",
      "Epoch 19/20\n",
      "48/48 [==============================] - 5s 109ms/step - loss: 0.2438 - accuracy: 0.9758 - val_loss: 0.1535 - val_accuracy: 0.9832\n",
      "Epoch 20/20\n",
      "48/48 [==============================] - 5s 107ms/step - loss: 0.2389 - accuracy: 0.9725 - val_loss: 0.1367 - val_accuracy: 0.9878\n"
     ]
    }
   ],
   "source": [
    "epochs = 20\n",
    "history = model.fit(X_train, y_train, batch_size=32, epochs=epochs, validation_split=0.3)"
   ]
  },
  {
   "cell_type": "code",
   "execution_count": 14,
   "id": "fad64433",
   "metadata": {},
   "outputs": [
    {
     "data": {
      "image/png": "[encoded data removed]",
      "text/plain": [
       "<Figure size 640x480 with 1 Axes>"
      ]
     },
     "metadata": {},
     "output_type": "display_data"
    }
   ],
   "source": []
  },
  {
   "cell_type": "code",
   "execution_count": null,
   "id": "0018a9ba",
   "metadata": {},
   "outputs": [],
   "source": []
  }
 ],
 "metadata": {
  "kernelspec": {
   "display_name": "Python 3 (ipykernel)",
   "language": "python",
   "name": "python3"
  },
  "language_info": {
   "codemirror_mode": {
    "name": "ipython",
    "version": 3
   },
   "file_extension": ".py",
   "mimetype": "text/x-python",
   "name": "python",
   "nbconvert_exporter": "python",
   "pygments_lexer": "ipython3",
   "version": "3.10.2"
  }
 },
 "nbformat": 4,
 "nbformat_minor": 5
}
