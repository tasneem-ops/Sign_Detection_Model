{
 "cells": [
  {
   "cell_type": "code",
   "execution_count": 11,
   "id": "b53f2e52",
   "metadata": {},
   "outputs": [],
   "source": [
    "import numpy as np\n",
    "import matplotlib.pyplot as plt\n",
    "import cv2\n",
    "import os"
   ]
  },
  {
   "cell_type": "code",
   "execution_count": 12,
   "id": "cf792873",
   "metadata": {},
   "outputs": [
    {
     "name": "stdout",
     "output_type": "stream",
     "text": [
      "182\n"
     ]
    }
   ],
   "source": [
    "train_data_dir = \"D:/Projects/Datasets/kaggle-sign-recognition/dataset/train\"\n",
    "test_data_dir = \"D:/Projects/Datasets/kaggle-sign-recognition/dataset/test\"\n",
    "categories = [\"1_1\", \"1_2\",\"1_5\", \"1_6\",\"1_7\", \"1_8\",\"1_11_1\", \"1_11_2\",\"1_12_1\", \"1_12_2\",\n",
    "              \"1_13\",\"1_14\",\"1_15\",\"1_16\",\"1_17\",\"1_18\",\"1_19\",\"1_20_1\",\"1_20_2\",\"1_20_3\",\"1_21\",\n",
    "              \"1_22\",\"1_23\",\"1_24\",\"1_25\",\"1_26\",\"1_27\",\"1_28\",\"1_29\",\"1_30\",\"1_31\",\"1_33\",\n",
    "              \"2_1\", \"2_2\",\"2_3_1\",\"2_3_L\",\"2_3_R\",\"2_4\",\"2_5\",\"2_6\",\"2_7\",\"3_1\",\"3_2\",\"3_5\",\"3_6\",\"3_7\",\n",
    "              \"3_8\",\"3_9\",\"3_10\",\"3_15\",\"3_16\",\"3_17\",\"3_18_1\",\"3_18_2\",\"3_19\",\"3_20\",\n",
    "              \"3_21\",\"3_24+5\",\"3_24+10\",\"3_24+20\",\"3_24+30\",\"3_24+40\",\"3_24+50\",\"3_24+60\",\"3_24+70\",\"3_24+80\",\"3_24+90\",\"3_24+110\",\n",
    "              \"3_25+5\",\"3_25+20\",\"3_25+30\",\"3_25+40\",\"3_25+50\",\"3_25+60\",\"3_25+70\",\"3_26\",\"3_27\",\"3_28\",\"3_29\",\"3_30\",\"3_31\",\n",
    "              \"3_32\",\"3_33\",\"4_1_1\",\"4_1_2\",\"4_1_2_1\",\"4_1_3\",\"4_1_3_1\",\"4_1_4\",\"4_1_5\",\"4_1_6\",\"4_2_1\",\"4_2_2\",\"4_2_3\",\"4_3\",\"4_4_1\",\"4_4_2\",\n",
    "              \"4_5_1\",\"4_5_2\",\"4_5_4\",\"4_5_5\",\"4_5_6\",\"4_8_1\",\"4_8_2\",\"4_8_3\",\"4_8_4\",\"4_8_5\",\"4_8_6\",\n",
    "              \"5_1\",\"5_2\",\"5_3\",\"5_4\",\"5_5\",\"5_6\",\"5_7_1\",\"5_7_2\",\"5_8\",\"5_9\",\"5_11_1\",\"5_12_1\",\"5_13_1\",\"5_13_2\",\"5_14\",\"5_14_1\",\n",
    "              \"5_14_2\",\"5_14_3\",\"5_15_2+1\",\"5_15_2+2\",\"5_15_2+3\",\"5_15_2+5\",\"5_15_3\",\"5_15_5\",\"5_16\",\"5_17\",\"5_18\",\"5_19\",\n",
    "              \"5_20\",\"5_21\",\"5_22\",\"5_23_2\",\"5_24_2\",\"5_29\",\"5_31+5\",\"5_31+10\",\"5_31+20\",\"5_31+30\",\"5_31+40\",\"5_31+50\",\n",
    "              \"5_32\",\"5_33\",\"6_2+30\",\"6_2+40\",\"6_2+50\",\"6_2+60\",\"6_2+70\",\"6_2+80\",\"6_3_1\",\"6_4\",\"6_6\",\"6_7\",\n",
    "              \"6_8_1\",\"6_8_2\",\"6_8_3\",\"6_15_1\",\"6_15_2\",\"6_15_3\",\"6_16\",\"7_1\",\"7_2\",\"7_3\",\"7_4\",\"7_5\",\"7_6\",\"7_7\",\"7_9\",\n",
    "              \"7_11\",\"7_12\",\"7_13\",\"7_14\",\"7_18\",\"smoke\",\"unknown\"]\n",
    "print(len(categories))"
   ]
  },
  {
   "cell_type": "code",
   "execution_count": 13,
   "id": "3e393569",
   "metadata": {},
   "outputs": [],
   "source": [
    "train_data = []\n",
    "for category in categories:\n",
    "    path = os.path.join(train_data_dir, category)\n",
    "    img_label = categories.index(category)\n",
    "    for img in os.listdir(path):\n",
    "        try:\n",
    "            img_array = cv2.imread(os.path.join(path,img) ,cv2.IMREAD_GRAYSCALE)\n",
    "            img_array.resize(64,64)\n",
    "            train_data.append([img_array, img_label])\n",
    "        except Exception as e:\n",
    "            pass"
   ]
  },
  {
   "cell_type": "code",
   "execution_count": 14,
   "id": "85f24b35",
   "metadata": {},
   "outputs": [
    {
     "name": "stdout",
     "output_type": "stream",
     "text": [
      "81\n",
      "130\n",
      "160\n",
      "127\n",
      "130\n",
      "181\n",
      "2\n",
      "128\n",
      "174\n",
      "48\n"
     ]
    }
   ],
   "source": [
    "import random\n",
    "random.shuffle(train_data)\n",
    "for sample in train_data[:10]:\n",
    "    print(sample[1])\n"
   ]
  },
  {
   "cell_type": "code",
   "execution_count": 15,
   "id": "49796724",
   "metadata": {},
   "outputs": [
    {
     "name": "stdout",
     "output_type": "stream",
     "text": [
      "51460\n",
      "(51460, 64, 64) (51460,)\n"
     ]
    }
   ],
   "source": [
    "print(len(train_data))\n",
    "\n",
    "X = []\n",
    "y = []\n",
    "\n",
    "for features,label in train_data:\n",
    "    X.append(features)\n",
    "    y.append(label)\n",
    "\n",
    "X = np.array(X)\n",
    "y = np.array(y)\n",
    "print(X.shape, y.shape)"
   ]
  },
  {
   "cell_type": "code",
   "execution_count": 12,
   "id": "0a839db0",
   "metadata": {},
   "outputs": [],
   "source": [
    "import pickle\n",
    "\n",
    "pickle_out = open(\"X.pickle\",\"wb\")\n",
    "pickle.dump(X, pickle_out)\n",
    "pickle_out.close()\n",
    "\n",
    "pickle_out = open(\"y.pickle\",\"wb\")\n",
    "pickle.dump(y, pickle_out)\n",
    "pickle_out.close()"
   ]
  },
  {
   "cell_type": "code",
   "execution_count": 9,
   "id": "6e53fc84",
   "metadata": {},
   "outputs": [],
   "source": [
    "\n",
    "pickle_in = open(\"X.pickle\",\"rb\")\n",
    "X = pickle.load(pickle_in)\n",
    "\n",
    "pickle_in = open(\"y.pickle\",\"rb\")\n",
    "y = pickle.load(pickle_in)\n",
    "X = np.array(X)"
   ]
  },
  {
   "cell_type": "code",
   "execution_count": 16,
   "id": "c94d0384",
   "metadata": {},
   "outputs": [
    {
     "name": "stdout",
     "output_type": "stream",
     "text": [
      "Epoch 1/5\n",
      "1716/1716 [==============================] - 754s 439ms/step - loss: 4.8463 - accuracy: 0.0330 - val_loss: 4.6879 - val_accuracy: 0.0401\n",
      "Epoch 2/5\n",
      "1716/1716 [==============================] - 617s 360ms/step - loss: 4.5679 - accuracy: 0.0516 - val_loss: 4.6222 - val_accuracy: 0.0487\n",
      "Epoch 3/5\n",
      "1716/1716 [==============================] - 587s 342ms/step - loss: 4.4289 - accuracy: 0.0613 - val_loss: 4.6011 - val_accuracy: 0.0534\n",
      "Epoch 4/5\n",
      "1716/1716 [==============================] - 581s 339ms/step - loss: 4.3081 - accuracy: 0.0702 - val_loss: 4.6708 - val_accuracy: 0.0560\n",
      "Epoch 5/5\n",
      "1716/1716 [==============================] - 594s 346ms/step - loss: 4.2083 - accuracy: 0.0785 - val_loss: 4.7265 - val_accuracy: 0.0559\n"
     ]
    },
    {
     "data": {
      "text/plain": [
       "<keras.callbacks.History at 0x1e4bcf565f0>"
      ]
     },
     "execution_count": 16,
     "metadata": {},
     "output_type": "execute_result"
    }
   ],
   "source": [
    "import tensorflow as tf\n",
    "from tensorflow.keras.models import Sequential\n",
    "from tensorflow.keras.layers import Dense, Conv2D, MaxPool2D\n",
    "from tensorflow.keras.layers import  Flatten\n",
    "\n",
    "model = Sequential()\n",
    "model.add(Conv2D(100, kernel_size = 3, activation = 'relu', input_shape = (64, 64, 1)))\n",
    "model.add(Conv2D(100, kernel_size = 3, activation = 'relu'))\n",
    "model.add(MaxPool2D(2))\n",
    "model.add(Conv2D(10, kernel_size = 3, activation = 'relu'))\n",
    "model.add(MaxPool2D(2))\n",
    "model.add(Flatten())\n",
    "model.add(Dense(182, activation ='softmax'))\n",
    "\n",
    "model.compile(optimizer='adam', loss= 'sparse_categorical_crossentropy', metrics= ['accuracy'])\n",
    "model.fit(X, y , batch_size= 24, validation_split=0.2, epochs= 5)"
   ]
  },
  {
   "cell_type": "code",
   "execution_count": 17,
   "id": "74c2c7d7",
   "metadata": {},
   "outputs": [
    {
     "name": "stdout",
     "output_type": "stream",
     "text": [
      "6\n",
      "44\n",
      "135\n",
      "2\n",
      "128\n",
      "92\n",
      "31\n",
      "166\n",
      "7\n",
      "106\n",
      "51460\n",
      "(12866, 64, 64) (12866,)\n"
     ]
    }
   ],
   "source": [
    "test_data = []\n",
    "for category in categories:\n",
    "    path = os.path.join(test_data_dir, category)\n",
    "    img_label = categories.index(category)\n",
    "    for img in os.listdir(path):\n",
    "        try:\n",
    "            img_array = cv2.imread(os.path.join(path,img) ,cv2.IMREAD_GRAYSCALE)\n",
    "            img_array.resize(64,64)\n",
    "            test_data.append([img_array, img_label])\n",
    "        except Exception as e:\n",
    "            pass\n",
    "import random\n",
    "random.shuffle(test_data)\n",
    "for sample in test_data[:10]:\n",
    "    print(sample[1])\n",
    "print(len(train_data))\n",
    "\n",
    "X_test = []\n",
    "y_test = []\n",
    "\n",
    "for features,label in test_data:\n",
    "    X_test.append(features)\n",
    "    y_test.append(label)\n",
    "\n",
    "X_test = np.array(X_test)\n",
    "y_test = np.array(y_test)\n",
    "print(X_test.shape, y_test.shape)"
   ]
  },
  {
   "cell_type": "code",
   "execution_count": 18,
   "id": "ca02ef0a",
   "metadata": {},
   "outputs": [
    {
     "name": "stdout",
     "output_type": "stream",
     "text": [
      "403/403 [==============================] - 40s 99ms/step - loss: 4.7262 - accuracy: 0.0607\n"
     ]
    },
    {
     "data": {
      "text/plain": [
       "[4.7261857986450195, 0.060702625662088394]"
      ]
     },
     "execution_count": 18,
     "metadata": {},
     "output_type": "execute_result"
    }
   ],
   "source": [
    "model.evaluate(X_test, y_test)"
   ]
  },
  {
   "cell_type": "code",
   "execution_count": null,
   "id": "ffb885f5",
   "metadata": {},
   "outputs": [],
   "source": []
  }
 ],
 "metadata": {
  "kernelspec": {
   "display_name": "Python 3.10.2 64-bit",
   "language": "python",
   "name": "python3"
  },
  "language_info": {
   "codemirror_mode": {
    "name": "ipython",
    "version": 3
   },
   "file_extension": ".py",
   "mimetype": "text/x-python",
   "name": "python",
   "nbconvert_exporter": "python",
   "pygments_lexer": "ipython3",
   "version": "3.10.2"
  },
  "vscode": {
   "interpreter": {
    "hash": "369f2c481f4da34e4445cda3fffd2e751bd1c4d706f27375911949ba6bb62e1c"
   }
  }
 },
 "nbformat": 4,
 "nbformat_minor": 5
}
