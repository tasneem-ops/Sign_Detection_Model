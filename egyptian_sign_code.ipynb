{
 "cells": [
  {
   "cell_type": "code",
   "execution_count": 1,
   "id": "3a87a519",
   "metadata": {},
   "outputs": [],
   "source": [
    "import numpy as np\n",
    "import matplotlib.pyplot as plt\n",
    "import cv2\n",
    "import os\n",
    "import tensorflow as tf\n",
    "from tensorflow.keras.models import load_model\n",
    "from tensorflow.keras.models import Sequential\n",
    "from tensorflow.keras.layers import Dense, Activation, Dropout\n",
    "from tensorflow.keras.layers import BatchNormalization\n",
    "from sklearn.model_selection import train_test_split\n",
    "from tensorflow.keras.utils import to_categorical\n",
    "from sklearn.metrics import accuracy_score"
   ]
  },
  {
   "cell_type": "code",
   "execution_count": 2,
   "id": "1ed0e7d2",
   "metadata": {},
   "outputs": [
    {
     "name": "stdout",
     "output_type": "stream",
     "text": [
      "Model: \"sequential\"\n",
      "_________________________________________________________________\n",
      " Layer (type)                Output Shape              Param #   \n",
      "=================================================================\n",
      " conv2d (Conv2D)             (None, 26, 26, 32)        2432      \n",
      "                                                                 \n",
      " conv2d_1 (Conv2D)           (None, 22, 22, 32)        25632     \n",
      "                                                                 \n",
      " max_pooling2d (MaxPooling2D  (None, 11, 11, 32)       0         \n",
      " )                                                               \n",
      "                                                                 \n",
      " dropout (Dropout)           (None, 11, 11, 32)        0         \n",
      "                                                                 \n",
      " conv2d_2 (Conv2D)           (None, 9, 9, 64)          18496     \n",
      "                                                                 \n",
      " conv2d_3 (Conv2D)           (None, 7, 7, 64)          36928     \n",
      "                                                                 \n",
      " max_pooling2d_1 (MaxPooling  (None, 3, 3, 64)         0         \n",
      " 2D)                                                             \n",
      "                                                                 \n",
      " dropout_1 (Dropout)         (None, 3, 3, 64)          0         \n",
      "                                                                 \n",
      " flatten (Flatten)           (None, 576)               0         \n",
      "                                                                 \n",
      " dense (Dense)               (None, 256)               147712    \n",
      "                                                                 \n",
      " dropout_2 (Dropout)         (None, 256)               0         \n",
      "                                                                 \n",
      " dense_1 (Dense)             (None, 43)                11051     \n",
      "                                                                 \n",
      "=================================================================\n",
      "Total params: 242,251\n",
      "Trainable params: 242,251\n",
      "Non-trainable params: 0\n",
      "_________________________________________________________________\n"
     ]
    }
   ],
   "source": [
    "# Load pretrained model\n",
    "model = load_model('G_final.h5')\n",
    "model.summary()"
   ]
  },
  {
   "cell_type": "code",
   "execution_count": 3,
   "id": "8100e6f0",
   "metadata": {},
   "outputs": [],
   "source": [
    "# Delete fully-connected layers (last three layers)\n",
    "for i in range(3):\n",
    "    model.pop()\n",
    "    \n",
    "# Freeze convolution layers to make them untrainable\n",
    "for layer in model.layers:\n",
    "    layer.trainable = False"
   ]
  },
  {
   "cell_type": "code",
   "execution_count": 4,
   "id": "22bbe1a7",
   "metadata": {},
   "outputs": [
    {
     "name": "stdout",
     "output_type": "stream",
     "text": [
      "Model: \"sequential\"\n",
      "_________________________________________________________________\n",
      " Layer (type)                Output Shape              Param #   \n",
      "=================================================================\n",
      " conv2d (Conv2D)             (None, 26, 26, 32)        2432      \n",
      "                                                                 \n",
      " conv2d_1 (Conv2D)           (None, 22, 22, 32)        25632     \n",
      "                                                                 \n",
      " max_pooling2d (MaxPooling2D  (None, 11, 11, 32)       0         \n",
      " )                                                               \n",
      "                                                                 \n",
      " dropout (Dropout)           (None, 11, 11, 32)        0         \n",
      "                                                                 \n",
      " conv2d_2 (Conv2D)           (None, 9, 9, 64)          18496     \n",
      "                                                                 \n",
      " conv2d_3 (Conv2D)           (None, 7, 7, 64)          36928     \n",
      "                                                                 \n",
      " max_pooling2d_1 (MaxPooling  (None, 3, 3, 64)         0         \n",
      " 2D)                                                             \n",
      "                                                                 \n",
      " dropout_1 (Dropout)         (None, 3, 3, 64)          0         \n",
      "                                                                 \n",
      " flatten (Flatten)           (None, 576)               0         \n",
      "                                                                 \n",
      " dense (Dense)               (None, 4096)              2363392   \n",
      "                                                                 \n",
      " batch_normalization (BatchN  (None, 4096)             16384     \n",
      " ormalization)                                                   \n",
      "                                                                 \n",
      " activation (Activation)     (None, 4096)              0         \n",
      "                                                                 \n",
      " dropout_3 (Dropout)         (None, 4096)              0         \n",
      "                                                                 \n",
      " dense_1 (Dense)             (None, 1000)              4097000   \n",
      "                                                                 \n",
      " batch_normalization_1 (Batc  (None, 1000)             4000      \n",
      " hNormalization)                                                 \n",
      "                                                                 \n",
      " activation_1 (Activation)   (None, 1000)              0         \n",
      "                                                                 \n",
      " dropout_5 (Dropout)         (None, 1000)              0         \n",
      "                                                                 \n",
      " dense_2 (Dense)             (None, 10)                10010     \n",
      "                                                                 \n",
      " batch_normalization_2 (Batc  (None, 10)               40        \n",
      " hNormalization)                                                 \n",
      "                                                                 \n",
      " activation_2 (Activation)   (None, 10)                0         \n",
      "                                                                 \n",
      "=================================================================\n",
      "Total params: 6,574,314\n",
      "Trainable params: 6,480,614\n",
      "Non-trainable params: 93,700\n",
      "_________________________________________________________________\n"
     ]
    }
   ],
   "source": [
    "# Add fully connected layers to the model\n",
    "\n",
    "# 1st Fully Connected Layer\n",
    "model.add(Dense(4096, input_shape=(32,32,3,)))\n",
    "model.add(BatchNormalization())\n",
    "model.add(Activation('relu'))\n",
    "# Add Dropout to prevent overfitting\n",
    "model.add(Dropout(0.4, name='dropout_3'))\n",
    "\n",
    "#2nd Fully Connected Layer\n",
    "model.add(Dense(1000))\n",
    "model.add(BatchNormalization())\n",
    "model.add(Activation('relu'))\n",
    "#Add Dropout\n",
    "model.add(Dropout(0.4, name='dropout_5'))\n",
    "\n",
    "#Output Layer\n",
    "model.add(Dense(10))\n",
    "model.add(BatchNormalization())\n",
    "model.add(Activation('softmax'))\n",
    "model.summary()"
   ]
  },
  {
   "cell_type": "code",
   "execution_count": 5,
   "id": "59e24bde",
   "metadata": {},
   "outputs": [
    {
     "name": "stdout",
     "output_type": "stream",
     "text": [
      "10\n"
     ]
    }
   ],
   "source": [
    "data_dir = \"C:/Users/s/Desktop/Graduation Project DataSets/egyptian reduced dataset\"\n",
    "os.chdir(data_dir)\n",
    "categories = os.listdir()\n",
    "print(len(categories))\n",
    "data = []\n",
    "labels = []\n",
    "for category in categories:\n",
    "    path = os.path.join(data_dir, category)\n",
    "    os.chdir(path)\n",
    "    img_label = categories.index(category)\n",
    "    for img in os.listdir():\n",
    "        try:\n",
    "            img_array = cv2.imread(img ,1)\n",
    "            dim = (30,30)\n",
    "            img_array = cv2.resize(img_array,dim,interpolation = cv2.INTER_AREA)\n",
    "            data.append(img_array)\n",
    "            labels.append(category)\n",
    "        except Exception as e:\n",
    "            pass"
   ]
  },
  {
   "cell_type": "code",
   "execution_count": 6,
   "id": "249821d6",
   "metadata": {},
   "outputs": [
    {
     "name": "stdout",
     "output_type": "stream",
     "text": [
      "(1177, 30, 30, 3)\n",
      "(1059, 30, 30, 3) (118, 30, 30, 3) (1059,) (118,)\n"
     ]
    }
   ],
   "source": [
    "data = np.array(data)\n",
    "labels = np.array(labels)\n",
    "print(data.shape)\n",
    "X_train, X_test, y_train, y_test = train_test_split(data, labels, test_size=0.1, random_state=42)\n",
    "print(X_train.shape, X_test.shape, y_train.shape, y_test.shape)"
   ]
  },
  {
   "cell_type": "code",
   "execution_count": 7,
   "id": "8c2057cb",
   "metadata": {},
   "outputs": [],
   "source": [
    "y_train = to_categorical(y_train, 10)\n",
    "y_test = to_categorical(y_test, 10)"
   ]
  },
  {
   "cell_type": "code",
   "execution_count": 8,
   "id": "636f1818",
   "metadata": {},
   "outputs": [],
   "source": [
    "model.compile(loss='categorical_crossentropy', optimizer='adam', metrics=['accuracy'])"
   ]
  },
  {
   "cell_type": "code",
   "execution_count": 9,
   "id": "6cecad1f",
   "metadata": {},
   "outputs": [
    {
     "name": "stdout",
     "output_type": "stream",
     "text": [
      "Epoch 1/20\n",
      "24/24 [==============================] - 3s 64ms/step - loss: 1.4443 - accuracy: 0.6086 - val_loss: 0.4865 - val_accuracy: 0.8868\n",
      "Epoch 2/20\n",
      "24/24 [==============================] - 1s 50ms/step - loss: 1.0112 - accuracy: 0.8758 - val_loss: 0.6021 - val_accuracy: 0.8962\n",
      "Epoch 3/20\n",
      "24/24 [==============================] - 1s 53ms/step - loss: 0.9118 - accuracy: 0.9055 - val_loss: 0.6283 - val_accuracy: 0.9528\n",
      "Epoch 4/20\n",
      "24/24 [==============================] - 1s 52ms/step - loss: 0.8510 - accuracy: 0.9298 - val_loss: 0.6032 - val_accuracy: 0.9528\n",
      "Epoch 5/20\n",
      "24/24 [==============================] - 1s 49ms/step - loss: 0.8031 - accuracy: 0.9339 - val_loss: 0.4584 - val_accuracy: 0.9717\n",
      "Epoch 6/20\n",
      "24/24 [==============================] - 1s 49ms/step - loss: 0.7534 - accuracy: 0.9501 - val_loss: 0.5079 - val_accuracy: 0.9748\n",
      "Epoch 7/20\n",
      "24/24 [==============================] - 1s 51ms/step - loss: 0.7250 - accuracy: 0.9474 - val_loss: 0.4804 - val_accuracy: 0.9811\n",
      "Epoch 8/20\n",
      "24/24 [==============================] - 1s 50ms/step - loss: 0.6960 - accuracy: 0.9460 - val_loss: 0.4621 - val_accuracy: 0.9717\n",
      "Epoch 9/20\n",
      "24/24 [==============================] - 1s 49ms/step - loss: 0.6625 - accuracy: 0.9649 - val_loss: 0.4750 - val_accuracy: 0.9748\n",
      "Epoch 10/20\n",
      "24/24 [==============================] - 1s 51ms/step - loss: 0.6440 - accuracy: 0.9528 - val_loss: 0.4233 - val_accuracy: 0.9686\n",
      "Epoch 11/20\n",
      "24/24 [==============================] - 1s 49ms/step - loss: 0.6157 - accuracy: 0.9541 - val_loss: 0.3925 - val_accuracy: 0.9717\n",
      "Epoch 12/20\n",
      "24/24 [==============================] - 1s 52ms/step - loss: 0.5897 - accuracy: 0.9609 - val_loss: 0.3841 - val_accuracy: 0.9780\n",
      "Epoch 13/20\n",
      "24/24 [==============================] - 1s 49ms/step - loss: 0.5433 - accuracy: 0.9730 - val_loss: 0.3692 - val_accuracy: 0.9780\n",
      "Epoch 14/20\n",
      "24/24 [==============================] - 1s 49ms/step - loss: 0.5126 - accuracy: 0.9757 - val_loss: 0.3541 - val_accuracy: 0.9748\n",
      "Epoch 15/20\n",
      "24/24 [==============================] - 1s 51ms/step - loss: 0.5003 - accuracy: 0.9690 - val_loss: 0.3335 - val_accuracy: 0.9780\n",
      "Epoch 16/20\n",
      "24/24 [==============================] - 1s 54ms/step - loss: 0.5127 - accuracy: 0.9676 - val_loss: 0.3428 - val_accuracy: 0.9780\n",
      "Epoch 17/20\n",
      "24/24 [==============================] - 1s 49ms/step - loss: 0.4832 - accuracy: 0.9690 - val_loss: 0.3304 - val_accuracy: 0.9780\n",
      "Epoch 18/20\n",
      "24/24 [==============================] - 1s 51ms/step - loss: 0.4700 - accuracy: 0.9622 - val_loss: 0.2894 - val_accuracy: 0.9811\n",
      "Epoch 19/20\n",
      "24/24 [==============================] - 1s 49ms/step - loss: 0.4809 - accuracy: 0.9622 - val_loss: 0.3011 - val_accuracy: 0.9780\n",
      "Epoch 20/20\n",
      "24/24 [==============================] - 1s 51ms/step - loss: 0.4107 - accuracy: 0.9825 - val_loss: 0.2774 - val_accuracy: 0.9843\n"
     ]
    }
   ],
   "source": [
    "# Fit model on training data\n",
    "history = model.fit(X_train, y_train, batch_size=32, epochs=20, validation_split=0.3)"
   ]
  },
  {
   "cell_type": "code",
   "execution_count": 10,
   "id": "0e50a0ce",
   "metadata": {},
   "outputs": [
    {
     "data": {
      "image/png": "[encoded data removed]",
      "text/plain": [
       "<Figure size 640x480 with 1 Axes>"
      ]
     },
     "metadata": {},
     "output_type": "display_data"
    }
   ],
   "source": [
    "# Plot the accuracy \n",
    "\n",
    "plt.figure(0)\n",
    "plt.plot(history.history['accuracy'], label='training accuracy')\n",
    "plt.plot(history.history['val_accuracy'], label='val accuracy')\n",
    "plt.title('Accuracy')\n",
    "plt.xlabel('epochs')\n",
    "plt.ylabel('accuracy')\n",
    "plt.legend()\n",
    "plt.show()"
   ]
  },
  {
   "cell_type": "code",
   "execution_count": 11,
   "id": "6e1d1c28",
   "metadata": {},
   "outputs": [
    {
     "name": "stdout",
     "output_type": "stream",
     "text": [
      "4/4 [==============================] - 0s 14ms/step - loss: 0.3207 - accuracy: 0.9661\n"
     ]
    },
    {
     "data": {
      "text/plain": [
       "[0.32067781686782837, 0.9661017060279846]"
      ]
     },
     "execution_count": 11,
     "metadata": {},
     "output_type": "execute_result"
    }
   ],
   "source": [
    "model.evaluate(X_test, y_test)"
   ]
  },
  {
   "cell_type": "code",
   "execution_count": 12,
   "id": "a7cbd86e",
   "metadata": {},
   "outputs": [],
   "source": [
    "model.save(\"C:/Users/s/Desktop/Cropped For classification/egyptian_sign_model.h5\")"
   ]
  },
  {
   "cell_type": "code",
   "execution_count": null,
   "id": "be3dd869",
   "metadata": {},
   "outputs": [],
   "source": []
  }
 ],
 "metadata": {
  "kernelspec": {
   "display_name": "Python 3 (ipykernel)",
   "language": "python",
   "name": "python3"
  },
  "language_info": {
   "codemirror_mode": {
    "name": "ipython",
    "version": 3
   },
   "file_extension": ".py",
   "mimetype": "text/x-python",
   "name": "python",
   "nbconvert_exporter": "python",
   "pygments_lexer": "ipython3",
   "version": "3.10.2"
  }
 },
 "nbformat": 4,
 "nbformat_minor": 5
}
